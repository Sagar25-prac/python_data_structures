{
  "nbformat": 4,
  "nbformat_minor": 0,
  "metadata": {
    "colab": {
      "provenance": [],
      "authorship_tag": "ABX9TyOQubu1baZHRzvWevoAXGaq",
      "include_colab_link": true
    },
    "kernelspec": {
      "name": "python3",
      "display_name": "Python 3"
    },
    "language_info": {
      "name": "python"
    }
  },
  "cells": [
    {
      "cell_type": "markdown",
      "metadata": {
        "id": "view-in-github",
        "colab_type": "text"
      },
      "source": [
        "<a href=\"https://colab.research.google.com/github/Sagar25-prac/python_data_structures/blob/main/List.ipynb\" target=\"_parent\"><img src=\"https://colab.research.google.com/assets/colab-badge.svg\" alt=\"Open In Colab\"/></a>"
      ]
    },
    {
      "cell_type": "code",
      "execution_count": null,
      "metadata": {
        "colab": {
          "base_uri": "https://localhost:8080/"
        },
        "id": "KR9Sm5tls3Sh",
        "outputId": "a7a3bb90-78be-4353-a96e-6b53cfd2622f"
      },
      "outputs": [
        {
          "output_type": "stream",
          "name": "stdout",
          "text": [
            "Temperature: [21, 22, 25, 58, 45]\n",
            "Number of Temperature recorded: 5\n",
            "file_info ['report.pdf', 2.4, True]\n",
            "List Length 3\n"
          ]
        }
      ],
      "source": [
        "# Empty list\n",
        "\n",
        "empty_list = []\n",
        "\n",
        "# Homogeneous List\n",
        "# List of temoerature recorded every hour (all floats)\n",
        "\n",
        "hourly_temp = [21,22,25,58,45]\n",
        "print(\"Temperature:\", hourly_temp)\n",
        "print(\"Number of Temperature recorded:\", len(hourly_temp))\n",
        "\n",
        "# Heterogeneous List\n",
        "# Data about files: name size and downloaded flag\n",
        "\n",
        "file_info = [\"report.pdf\",2.4,True]\n",
        "print(\"file_info\",file_info)\n",
        "print(\"List Length\",len(file_info))"
      ]
    },
    {
      "cell_type": "code",
      "source": [
        "# List of recent app notification\n",
        "\n",
        "notification = ['Updated','Message','Backup']\n",
        "\n",
        "print(notification[len(notification)-1])\n",
        "print(notification[0])\n",
        "print(notification[-1])"
      ],
      "metadata": {
        "colab": {
          "base_uri": "https://localhost:8080/"
        },
        "id": "nZzBwmjEwTiS",
        "outputId": "ab456c46-2bbe-4f94-feab-62cf591bd576"
      },
      "execution_count": null,
      "outputs": [
        {
          "output_type": "stream",
          "name": "stdout",
          "text": [
            "Backup\n",
            "Updated\n",
            "Backup\n"
          ]
        }
      ]
    },
    {
      "cell_type": "code",
      "source": [
        "# List is muttable\n",
        "\n",
        "event_log = ['start','end']\n",
        "\n",
        "event_log.append('restart')\n",
        "\n",
        "print(event_log)\n",
        "\n",
        "# for specific place\n",
        "\n",
        "event_log.insert(0,'Understand')\n",
        "\n",
        "print(event_log)\n",
        "\n",
        "event_log.insert(3,'Reanalyse')\n",
        "print(event_log)\n",
        "\n",
        "# To remove the element\n",
        "\n",
        "# To keep resent element\n",
        "#event_log.pop()\n",
        "\n",
        "#To remove perticular element\n",
        "print(event_log.pop(1))\n",
        "print(event_log)"
      ],
      "metadata": {
        "colab": {
          "base_uri": "https://localhost:8080/"
        },
        "id": "Kts1PVcex5KN",
        "outputId": "15fe1b39-c21d-4839-ce03-538484614635"
      },
      "execution_count": 8,
      "outputs": [
        {
          "output_type": "stream",
          "name": "stdout",
          "text": [
            "['start', 'end', 'restart']\n",
            "['Understand', 'start', 'end', 'restart']\n",
            "['Understand', 'start', 'end', 'Reanalyse', 'restart']\n",
            "start\n",
            "['Understand', 'end', 'Reanalyse', 'restart']\n"
          ]
        }
      ]
    },
    {
      "cell_type": "code",
      "source": [
        "# iteration the list\n",
        "\n",
        "Games = ['Cricket','Football','Chess']\n",
        "\n",
        "for x in Games:\n",
        "  print('I play:',x)\n",
        "\n",
        "# Indexing\n",
        "for x,y in enumerate(Games):\n",
        "  print(f'Game {x+1} : {y}')\n",
        "\n",
        "  ###or\n",
        "\n",
        "for x,y in enumerate(Games,1):\n",
        "  print(f'Game {x} : {y}')\n",
        "\n"
      ],
      "metadata": {
        "colab": {
          "base_uri": "https://localhost:8080/"
        },
        "id": "YctPW1ZFUrkB",
        "outputId": "8db97a52-c87e-49f9-c1d4-c26e45a09e06"
      },
      "execution_count": 17,
      "outputs": [
        {
          "output_type": "stream",
          "name": "stdout",
          "text": [
            "I play: Cricket\n",
            "I play: Football\n",
            "I play: Chess\n",
            "Game 1 : Cricket\n",
            "Game 2 : Football\n",
            "Game 3 : Chess\n",
            "Game 1 : Cricket\n",
            "Game 2 : Football\n",
            "Game 3 : Chess\n"
          ]
        }
      ]
    },
    {
      "cell_type": "code",
      "source": [
        "\n",
        "# Nested loop\n",
        "\n",
        "matrix = [\n",
        "    [1,2,3],[4,5,6]\n",
        "]\n",
        "\n",
        "for x in matrix:\n",
        "  print('rows:',x)\n",
        "\n",
        "\n",
        "\n",
        "for x in matrix:\n",
        "  for y in x:\n",
        "    print('Value:',y)\n",
        "\n"
      ],
      "metadata": {
        "colab": {
          "base_uri": "https://localhost:8080/"
        },
        "id": "TbIWp8DXYaeq",
        "outputId": "74e07c3c-e5f3-45a1-d99a-d131c522d8a1"
      },
      "execution_count": 21,
      "outputs": [
        {
          "output_type": "stream",
          "name": "stdout",
          "text": [
            "rows: [1, 2, 3]\n",
            "rows: [4, 5, 6]\n",
            "Value: 1\n",
            "Value: 2\n",
            "Value: 3\n",
            "Value: 4\n",
            "Value: 5\n",
            "Value: 6\n"
          ]
        }
      ]
    },
    {
      "cell_type": "code",
      "source": [
        "# Counting elements and position\n",
        "wild = ['lion','tiger','zebra']\n",
        "\n",
        "user = (input('Enter the Animal: \\n'))\n",
        "\n",
        "\n",
        "if user in wild:\n",
        "  print(\"The entered animal is in:\",wild.index(user),\"position\")\n",
        "else:\n",
        "  print(\"Not Available\")\n"
      ],
      "metadata": {
        "colab": {
          "base_uri": "https://localhost:8080/"
        },
        "id": "2GflodgfZRAP",
        "outputId": "10461850-02ae-42eb-b86a-3bcf6ed0c684"
      },
      "execution_count": 34,
      "outputs": [
        {
          "output_type": "stream",
          "name": "stdout",
          "text": [
            "Enter the Animal: \n",
            "tiger\n",
            "The entered animal is in: 1 position\n"
          ]
        }
      ]
    },
    {
      "cell_type": "code",
      "source": [
        "# sort\n",
        "\n",
        "Temp = [1,2,3,4,5,67]\n",
        "\n",
        "print(sorted(Temp))\n",
        "print(list(reversed(Temp)))\n",
        "\n"
      ],
      "metadata": {
        "colab": {
          "base_uri": "https://localhost:8080/"
        },
        "id": "WXCZXf51adpr",
        "outputId": "806627be-e415-472c-b340-2c0c98aff39f"
      },
      "execution_count": 39,
      "outputs": [
        {
          "output_type": "stream",
          "name": "stdout",
          "text": [
            "[1, 2, 3, 4, 5, 67]\n",
            "[67, 5, 4, 3, 2, 1]\n"
          ]
        }
      ]
    },
    {
      "cell_type": "code",
      "source": [
        "# Shallow copy\n",
        "\n",
        "Module = [1,2,3,4,5]\n",
        "print(Module)\n",
        "\n",
        "Copy = Module[:]\n",
        "\n",
        "Copy.remove(2)\n",
        "\n",
        "print(Copy)\n",
        "\n",
        "\n"
      ],
      "metadata": {
        "colab": {
          "base_uri": "https://localhost:8080/"
        },
        "id": "S3ojm3ePgmcH",
        "outputId": "569dcced-5718-4c89-e25b-6496631a6cbd"
      },
      "execution_count": 47,
      "outputs": [
        {
          "output_type": "stream",
          "name": "stdout",
          "text": [
            "[1, 2, 3, 4, 5]\n",
            "[1, 3, 4, 5]\n"
          ]
        }
      ]
    },
    {
      "cell_type": "code",
      "source": [],
      "metadata": {
        "id": "ghT4i2_ThJGh"
      },
      "execution_count": null,
      "outputs": []
    }
  ]
}