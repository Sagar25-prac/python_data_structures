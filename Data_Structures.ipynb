{
  "nbformat": 4,
  "nbformat_minor": 0,
  "metadata": {
    "colab": {
      "provenance": [],
      "authorship_tag": "ABX9TyN8akop//KzpkMRq+aS4Yn+",
      "include_colab_link": true
    },
    "kernelspec": {
      "name": "python3",
      "display_name": "Python 3"
    },
    "language_info": {
      "name": "python"
    }
  },
  "cells": [
    {
      "cell_type": "markdown",
      "metadata": {
        "id": "view-in-github",
        "colab_type": "text"
      },
      "source": [
        "<a href=\"https://colab.research.google.com/github/Sagar25-prac/python_data_structures/blob/main/Data_Structures.ipynb\" target=\"_parent\"><img src=\"https://colab.research.google.com/assets/colab-badge.svg\" alt=\"Open In Colab\"/></a>"
      ]
    },
    {
      "cell_type": "code",
      "execution_count": 3,
      "metadata": {
        "colab": {
          "base_uri": "https://localhost:8080/"
        },
        "id": "KR9Sm5tls3Sh",
        "outputId": "a7a3bb90-78be-4353-a96e-6b53cfd2622f"
      },
      "outputs": [
        {
          "output_type": "stream",
          "name": "stdout",
          "text": [
            "Temperature: [21, 22, 25, 58, 45]\n",
            "Number of Temperature recorded: 5\n",
            "file_info ['report.pdf', 2.4, True]\n",
            "List Length 3\n"
          ]
        }
      ],
      "source": [
        "# Empty list\n",
        "\n",
        "empty_list = []\n",
        "\n",
        "# Homogeneous List\n",
        "# List of temoerature recorded every hour (all floats)\n",
        "\n",
        "hourly_temp = [21,22,25,58,45]\n",
        "print(\"Temperature:\", hourly_temp)\n",
        "print(\"Number of Temperature recorded:\", len(hourly_temp))\n",
        "\n",
        "# Heterogeneous List\n",
        "# Data about files: name size and downloaded flag\n",
        "\n",
        "file_info = [\"report.pdf\",2.4,True]\n",
        "print(\"file_info\",file_info)\n",
        "print(\"List Length\",len(file_info))"
      ]
    },
    {
      "cell_type": "code",
      "source": [
        "# List of recent app notification\n",
        "\n",
        "notification = ['Updated','Message','Backup']\n",
        "\n",
        "print(notification[len(notification)-1])\n",
        "print(notification[0])\n",
        "print(notification[-1])"
      ],
      "metadata": {
        "colab": {
          "base_uri": "https://localhost:8080/"
        },
        "id": "nZzBwmjEwTiS",
        "outputId": "ab456c46-2bbe-4f94-feab-62cf591bd576"
      },
      "execution_count": 6,
      "outputs": [
        {
          "output_type": "stream",
          "name": "stdout",
          "text": [
            "Backup\n",
            "Updated\n",
            "Backup\n"
          ]
        }
      ]
    },
    {
      "cell_type": "code",
      "source": [
        "# List is muttable\n",
        "\n",
        "event_log = ['start','end']\n",
        "\n",
        "event_log.append('restart')\n",
        "\n",
        "print(event_log)"
      ],
      "metadata": {
        "colab": {
          "base_uri": "https://localhost:8080/"
        },
        "id": "Kts1PVcex5KN",
        "outputId": "1ed7276d-b08a-4681-86e6-91e468414746"
      },
      "execution_count": 7,
      "outputs": [
        {
          "output_type": "stream",
          "name": "stdout",
          "text": [
            "['start', 'end', 'restart']\n"
          ]
        }
      ]
    }
  ]
}